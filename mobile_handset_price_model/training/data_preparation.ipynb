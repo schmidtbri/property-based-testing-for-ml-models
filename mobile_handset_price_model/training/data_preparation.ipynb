{
 "cells": [
  {
   "cell_type": "markdown",
   "metadata": {},
   "source": [
    "# Data Preparation"
   ]
  },
  {
   "cell_type": "code",
   "execution_count": 1,
   "metadata": {},
   "outputs": [],
   "source": [
    "import sys\n",
    "from copy import deepcopy\n",
    "import warnings\n",
    "import numpy as np\n",
    "from numpy import inf, nan\n",
    "import pandas as pd\n",
    "import joblib\n",
    "from sklearn.impute import SimpleImputer\n",
    "from sklearn.preprocessing import StandardScaler\n",
    "from sklearn.pipeline import Pipeline\n",
    "from sklearn.compose import ColumnTransformer\n",
    "from sklearn.model_selection import train_test_split\n",
    "\n",
    "sys.path.append(\"../../\")\n",
    "\n",
    "from mobile_handset_price_model.prediction.transformers import BooleanTransformer\n",
    "\n",
    "warnings.filterwarnings('ignore')\n",
    "pd.set_option(\"display.max_columns\", None)"
   ]
  },
  {
   "cell_type": "markdown",
   "metadata": {},
   "source": [
    "## Load Data"
   ]
  },
  {
   "cell_type": "code",
   "execution_count": 2,
   "metadata": {},
   "outputs": [
    {
     "data": {
      "text/html": [
       "<div>\n",
       "<style scoped>\n",
       "    .dataframe tbody tr th:only-of-type {\n",
       "        vertical-align: middle;\n",
       "    }\n",
       "\n",
       "    .dataframe tbody tr th {\n",
       "        vertical-align: top;\n",
       "    }\n",
       "\n",
       "    .dataframe thead th {\n",
       "        text-align: right;\n",
       "    }\n",
       "</style>\n",
       "<table border=\"1\" class=\"dataframe\">\n",
       "  <thead>\n",
       "    <tr style=\"text-align: right;\">\n",
       "      <th></th>\n",
       "      <th>battery_power</th>\n",
       "      <th>has_bluetooth</th>\n",
       "      <th>clock_speed</th>\n",
       "      <th>has_dual_sim</th>\n",
       "      <th>front_camera_megapixels</th>\n",
       "      <th>has_four_g</th>\n",
       "      <th>internal_memory</th>\n",
       "      <th>depth</th>\n",
       "      <th>weight</th>\n",
       "      <th>number_of_cores</th>\n",
       "      <th>primary_camera_megapixels</th>\n",
       "      <th>pixel_resolution_height</th>\n",
       "      <th>pixel_resolution_width</th>\n",
       "      <th>ram</th>\n",
       "      <th>screen_height</th>\n",
       "      <th>screen_width</th>\n",
       "      <th>talk_time</th>\n",
       "      <th>has_three_g</th>\n",
       "      <th>has_touch_screen</th>\n",
       "      <th>has_wifi</th>\n",
       "      <th>price_range</th>\n",
       "    </tr>\n",
       "  </thead>\n",
       "  <tbody>\n",
       "    <tr>\n",
       "      <th>0</th>\n",
       "      <td>842</td>\n",
       "      <td>0</td>\n",
       "      <td>2.2</td>\n",
       "      <td>0</td>\n",
       "      <td>1</td>\n",
       "      <td>0</td>\n",
       "      <td>7</td>\n",
       "      <td>0.6</td>\n",
       "      <td>188</td>\n",
       "      <td>2</td>\n",
       "      <td>2</td>\n",
       "      <td>20</td>\n",
       "      <td>756</td>\n",
       "      <td>2549</td>\n",
       "      <td>9</td>\n",
       "      <td>7</td>\n",
       "      <td>19</td>\n",
       "      <td>0</td>\n",
       "      <td>0</td>\n",
       "      <td>1</td>\n",
       "      <td>1</td>\n",
       "    </tr>\n",
       "    <tr>\n",
       "      <th>1</th>\n",
       "      <td>1021</td>\n",
       "      <td>1</td>\n",
       "      <td>0.5</td>\n",
       "      <td>1</td>\n",
       "      <td>0</td>\n",
       "      <td>1</td>\n",
       "      <td>53</td>\n",
       "      <td>0.7</td>\n",
       "      <td>136</td>\n",
       "      <td>3</td>\n",
       "      <td>6</td>\n",
       "      <td>905</td>\n",
       "      <td>1988</td>\n",
       "      <td>2631</td>\n",
       "      <td>17</td>\n",
       "      <td>3</td>\n",
       "      <td>7</td>\n",
       "      <td>1</td>\n",
       "      <td>1</td>\n",
       "      <td>0</td>\n",
       "      <td>2</td>\n",
       "    </tr>\n",
       "    <tr>\n",
       "      <th>2</th>\n",
       "      <td>563</td>\n",
       "      <td>1</td>\n",
       "      <td>0.5</td>\n",
       "      <td>1</td>\n",
       "      <td>2</td>\n",
       "      <td>1</td>\n",
       "      <td>41</td>\n",
       "      <td>0.9</td>\n",
       "      <td>145</td>\n",
       "      <td>5</td>\n",
       "      <td>6</td>\n",
       "      <td>1263</td>\n",
       "      <td>1716</td>\n",
       "      <td>2603</td>\n",
       "      <td>11</td>\n",
       "      <td>2</td>\n",
       "      <td>9</td>\n",
       "      <td>1</td>\n",
       "      <td>1</td>\n",
       "      <td>0</td>\n",
       "      <td>2</td>\n",
       "    </tr>\n",
       "    <tr>\n",
       "      <th>3</th>\n",
       "      <td>615</td>\n",
       "      <td>1</td>\n",
       "      <td>2.5</td>\n",
       "      <td>0</td>\n",
       "      <td>0</td>\n",
       "      <td>0</td>\n",
       "      <td>10</td>\n",
       "      <td>0.8</td>\n",
       "      <td>131</td>\n",
       "      <td>6</td>\n",
       "      <td>9</td>\n",
       "      <td>1216</td>\n",
       "      <td>1786</td>\n",
       "      <td>2769</td>\n",
       "      <td>16</td>\n",
       "      <td>8</td>\n",
       "      <td>11</td>\n",
       "      <td>1</td>\n",
       "      <td>0</td>\n",
       "      <td>0</td>\n",
       "      <td>2</td>\n",
       "    </tr>\n",
       "    <tr>\n",
       "      <th>4</th>\n",
       "      <td>1821</td>\n",
       "      <td>1</td>\n",
       "      <td>1.2</td>\n",
       "      <td>0</td>\n",
       "      <td>13</td>\n",
       "      <td>1</td>\n",
       "      <td>44</td>\n",
       "      <td>0.6</td>\n",
       "      <td>141</td>\n",
       "      <td>2</td>\n",
       "      <td>14</td>\n",
       "      <td>1208</td>\n",
       "      <td>1212</td>\n",
       "      <td>1411</td>\n",
       "      <td>8</td>\n",
       "      <td>2</td>\n",
       "      <td>15</td>\n",
       "      <td>1</td>\n",
       "      <td>1</td>\n",
       "      <td>0</td>\n",
       "      <td>1</td>\n",
       "    </tr>\n",
       "  </tbody>\n",
       "</table>\n",
       "</div>"
      ],
      "text/plain": [
       "   battery_power  has_bluetooth  clock_speed  has_dual_sim  \\\n",
       "0            842              0          2.2             0   \n",
       "1           1021              1          0.5             1   \n",
       "2            563              1          0.5             1   \n",
       "3            615              1          2.5             0   \n",
       "4           1821              1          1.2             0   \n",
       "\n",
       "   front_camera_megapixels  has_four_g  internal_memory  depth  weight  \\\n",
       "0                        1           0                7    0.6     188   \n",
       "1                        0           1               53    0.7     136   \n",
       "2                        2           1               41    0.9     145   \n",
       "3                        0           0               10    0.8     131   \n",
       "4                       13           1               44    0.6     141   \n",
       "\n",
       "   number_of_cores  primary_camera_megapixels  pixel_resolution_height  \\\n",
       "0                2                          2                       20   \n",
       "1                3                          6                      905   \n",
       "2                5                          6                     1263   \n",
       "3                6                          9                     1216   \n",
       "4                2                         14                     1208   \n",
       "\n",
       "   pixel_resolution_width   ram  screen_height  screen_width  talk_time  \\\n",
       "0                     756  2549              9             7         19   \n",
       "1                    1988  2631             17             3          7   \n",
       "2                    1716  2603             11             2          9   \n",
       "3                    1786  2769             16             8         11   \n",
       "4                    1212  1411              8             2         15   \n",
       "\n",
       "   has_three_g  has_touch_screen  has_wifi  price_range  \n",
       "0            0                 0         1            1  \n",
       "1            1                 1         0            2  \n",
       "2            1                 1         0            2  \n",
       "3            1                 0         0            2  \n",
       "4            1                 1         0            1  "
      ]
     },
     "execution_count": 2,
     "metadata": {},
     "output_type": "execute_result"
    }
   ],
   "source": [
    "data = pd.read_csv(\"../../data/train.csv\")\n",
    "\n",
    "data.head()"
   ]
  },
  {
   "cell_type": "code",
   "execution_count": 3,
   "metadata": {},
   "outputs": [
    {
     "data": {
      "text/plain": [
       "battery_power                  int64\n",
       "has_bluetooth                  int64\n",
       "clock_speed                  float64\n",
       "has_dual_sim                   int64\n",
       "front_camera_megapixels        int64\n",
       "has_four_g                     int64\n",
       "internal_memory                int64\n",
       "depth                        float64\n",
       "weight                         int64\n",
       "number_of_cores                int64\n",
       "primary_camera_megapixels      int64\n",
       "pixel_resolution_height        int64\n",
       "pixel_resolution_width         int64\n",
       "ram                            int64\n",
       "screen_height                  int64\n",
       "screen_width                   int64\n",
       "talk_time                      int64\n",
       "has_three_g                    int64\n",
       "has_touch_screen               int64\n",
       "has_wifi                       int64\n",
       "price_range                    int64\n",
       "dtype: object"
      ]
     },
     "execution_count": 3,
     "metadata": {},
     "output_type": "execute_result"
    }
   ],
   "source": [
    "data.dtypes"
   ]
  },
  {
   "cell_type": "markdown",
   "metadata": {},
   "source": [
    "## Select Numerical and Categorical Features"
   ]
  },
  {
   "cell_type": "code",
   "execution_count": 4,
   "metadata": {},
   "outputs": [],
   "source": [
    "categorical_cols = []\n",
    "\n",
    "numerical_columns = [\n",
    "    \"battery_power\",\n",
    "    \"clock_speed\",\n",
    "    \"front_camera_megapixels\",\n",
    "    \"internal_memory\",\n",
    "    \"depth\",\n",
    "    \"weight\",\n",
    "    \"number_of_cores\",\n",
    "    \"primary_camera_megapixels\",\n",
    "    \"pixel_resolution_height\",\n",
    "    \"pixel_resolution_width\",\n",
    "    \"ram\",\n",
    "    \"screen_height\",\n",
    "    \"screen_width\",\n",
    "    \"talk_time\"\n",
    "]\n",
    "\n",
    "boolean_columns = [\n",
    "    \"has_bluetooth\",\n",
    "    \"has_dual_sim\",\n",
    "    \"has_four_g\",\n",
    "    \"has_three_g\",\n",
    "    \"has_touch_screen\",\n",
    "    \"has_wifi\",\n",
    "]\n",
    "\n",
    "# to make sure that we didnt miss any columns, we'll assert that the counts sum up\n",
    "assert (len(categorical_cols) + len(numerical_columns) + len(boolean_columns) == len(data.columns) - 1)"
   ]
  },
  {
   "cell_type": "markdown",
   "metadata": {},
   "source": [
    "## Create Preprocessor for Numerical Features"
   ]
  },
  {
   "cell_type": "code",
   "execution_count": 5,
   "metadata": {},
   "outputs": [],
   "source": [
    "numerical_transformer = Pipeline(steps=[\n",
    "    (\"imputer\", SimpleImputer(strategy=\"mean\")),\n",
    "    (\"scaler\", StandardScaler())\n",
    "])"
   ]
  },
  {
   "cell_type": "code",
   "execution_count": 6,
   "metadata": {},
   "outputs": [],
   "source": [
    "# testing the transformer\n",
    "test_df = pd.DataFrame([[1, 2, 3], [4, 5, 6], [7, 8, 9]],\n",
    "                       columns=[\"a\", \"b\", \"c\"])\n",
    "\n",
    "# copying the transformer object in order to fit and test it\n",
    "numerical_transformer_copy = deepcopy(numerical_transformer)\n",
    "\n",
    "numerical_transformer_copy.fit(test_df)\n",
    "\n",
    "test_df = pd.DataFrame([[1, None, 3], [None, 5, 6], [7, 8, None]],\n",
    "                       columns=[\"a\", \"b\", \"c\"])\n",
    "\n",
    "result = numerical_transformer_copy.transform(test_df)\n",
    "\n",
    "if np.array_equal(result, np.array([[-1.22474487,  0.0, -1.22474487],[ 0.0, 0.0, 0.0],[ 1.22474487, 1.22474487, 0.0]]), equal_nan=True):\n",
    "    raise ValueError(\"Unexpected values found in array.\")"
   ]
  },
  {
   "cell_type": "markdown",
   "metadata": {},
   "source": [
    "## Create Preprocessor for Boolean Features\n",
    "\n",
    "We'll create a transformer that is able to convert the string in the boolean columns to boolean values."
   ]
  },
  {
   "cell_type": "code",
   "execution_count": 7,
   "metadata": {},
   "outputs": [],
   "source": [
    "boolean_transformer = BooleanTransformer(true_value=1, false_value=0)"
   ]
  },
  {
   "cell_type": "code",
   "execution_count": 8,
   "metadata": {},
   "outputs": [],
   "source": [
    "# testing the transformer\n",
    "test_df = pd.DataFrame([[1], [0], [1]],\n",
    "                       columns=[\"has_bluetooth\"])\n",
    "\n",
    "# copying the transformer object in order to fit and test it\n",
    "boolean_transformer_copy = deepcopy(boolean_transformer)\n",
    "\n",
    "boolean_transformer_copy.fit(test_df)\n",
    "\n",
    "result = boolean_transformer_copy.transform(test_df)\n",
    "\n",
    "if (result != np.array([[True], [False], [True]])).all():\n",
    "    raise ValueError(\"Unexpected values found in array.\")"
   ]
  },
  {
   "cell_type": "code",
   "execution_count": 9,
   "metadata": {},
   "outputs": [],
   "source": [
    "# testing the transformer with boolean values\n",
    "test_df = pd.DataFrame([[True], [False], [True]],\n",
    "                       columns=[\"has_bluetooth\"])\n",
    "\n",
    "# copying the transformer object in order to fit and test it\n",
    "boolean_transformer_copy = deepcopy(boolean_transformer)\n",
    "\n",
    "boolean_transformer_copy.fit(test_df)\n",
    "\n",
    "result = boolean_transformer_copy.transform(test_df)\n",
    "\n",
    "if (result != np.array([[True], [False], [True]])).all():\n",
    "    raise ValueError(\"Unexpected values found in array.\")"
   ]
  },
  {
   "cell_type": "markdown",
   "metadata": {},
   "source": [
    "## Create ColumnTransformer\n",
    "\n",
    "Combining all of the preprocessors into one ColumnTransformer that can be used to preprocess the data."
   ]
  },
  {
   "cell_type": "code",
   "execution_count": 10,
   "metadata": {},
   "outputs": [],
   "source": [
    "column_transformer = ColumnTransformer(\n",
    "    remainder=\"passthrough\",\n",
    "    transformers=[\n",
    "        (\"numerical\", numerical_transformer, numerical_columns),\n",
    "        (\"boolean\", boolean_transformer, boolean_columns)\n",
    "    ])"
   ]
  },
  {
   "cell_type": "markdown",
   "metadata": {},
   "source": [
    "## Test the ColumnTransformer"
   ]
  },
  {
   "cell_type": "code",
   "execution_count": 11,
   "metadata": {},
   "outputs": [
    {
     "data": {
      "text/plain": [
       "array([[ 1.86531968,  0.38203679,  0.16142686, -1.11613741,  0.68599434,\n",
       "        -0.44990061,  2.7080128 ,  0.65327458, -1.15510633, -1.0575628 ,\n",
       "         1.66767126,  0.21887026,  1.39707095,  1.3462912 ,  0.        ,\n",
       "         0.        ,  1.        ,  1.        ,  0.        ,  1.        ,\n",
       "         3.        ]])"
      ]
     },
     "execution_count": 11,
     "metadata": {},
     "output_type": "execute_result"
    }
   ],
   "source": [
    "# copying the transformer object in order to fit and test it\n",
    "column_transformer_copy = deepcopy(column_transformer)\n",
    "\n",
    "column_transformer_copy.fit(data.head())\n",
    "\n",
    "result = column_transformer_copy.transform(data.iloc[[6]])\n",
    "\n",
    "if len(result[0]) != 21:  # expecting 21 features to come out of the ColumnTransformer\n",
    "    raise ValueError(\"Unexpected number of columns found in the dataframe.\")\n",
    "    \n",
    "result"
   ]
  },
  {
   "cell_type": "markdown",
   "metadata": {},
   "source": [
    "## Save ColumnTransformer\n",
    "\n",
    "NOTE: the ColumnTransformer object is saved in an UNFITTED state, it will be fitted to the data set later"
   ]
  },
  {
   "cell_type": "code",
   "execution_count": 12,
   "metadata": {},
   "outputs": [
    {
     "data": {
      "text/plain": [
       "['column_transformer.joblib']"
      ]
     },
     "execution_count": 12,
     "metadata": {},
     "output_type": "execute_result"
    }
   ],
   "source": [
    "joblib.dump(column_transformer, \"column_transformer.joblib\")"
   ]
  }
 ],
 "metadata": {
  "kernelspec": {
   "display_name": "Python 3 (ipykernel)",
   "language": "python",
   "name": "python3"
  },
  "language_info": {
   "codemirror_mode": {
    "name": "ipython",
    "version": 3
   },
   "file_extension": ".py",
   "mimetype": "text/x-python",
   "name": "python",
   "nbconvert_exporter": "python",
   "pygments_lexer": "ipython3",
   "version": "3.8.10"
  }
 },
 "nbformat": 4,
 "nbformat_minor": 4
}
