{
 "cells": [
  {
   "cell_type": "markdown",
   "metadata": {},
   "source": [
    "# Model Training"
   ]
  },
  {
   "cell_type": "code",
   "execution_count": 1,
   "metadata": {},
   "outputs": [],
   "source": [
    "import sys\n",
    "import warnings\n",
    "import numpy as np\n",
    "import pandas as pd\n",
    "from sklearn.model_selection import train_test_split\n",
    "from sklearn.pipeline import Pipeline\n",
    "from sklearn.base import clone\n",
    "from sklearn.metrics import accuracy_score\n",
    "from xgboost import XGBClassifier\n",
    "from hyperopt import STATUS_OK, Trials, fmin, hp, tpe\n",
    "import joblib\n",
    "\n",
    "sys.path.append(\"../../\")\n",
    "\n",
    "warnings.filterwarnings('ignore')\n",
    "pd.set_option(\"display.max_columns\", None)"
   ]
  },
  {
   "cell_type": "markdown",
   "metadata": {},
   "source": [
    "## Load Data"
   ]
  },
  {
   "cell_type": "code",
   "execution_count": 2,
   "metadata": {},
   "outputs": [
    {
     "data": {
      "text/html": [
       "<div>\n",
       "<style scoped>\n",
       "    .dataframe tbody tr th:only-of-type {\n",
       "        vertical-align: middle;\n",
       "    }\n",
       "\n",
       "    .dataframe tbody tr th {\n",
       "        vertical-align: top;\n",
       "    }\n",
       "\n",
       "    .dataframe thead th {\n",
       "        text-align: right;\n",
       "    }\n",
       "</style>\n",
       "<table border=\"1\" class=\"dataframe\">\n",
       "  <thead>\n",
       "    <tr style=\"text-align: right;\">\n",
       "      <th></th>\n",
       "      <th>battery_power</th>\n",
       "      <th>has_bluetooth</th>\n",
       "      <th>clock_speed</th>\n",
       "      <th>has_dual_sim</th>\n",
       "      <th>front_camera_megapixels</th>\n",
       "      <th>has_four_g</th>\n",
       "      <th>internal_memory</th>\n",
       "      <th>depth</th>\n",
       "      <th>weight</th>\n",
       "      <th>number_of_cores</th>\n",
       "      <th>primary_camera_megapixels</th>\n",
       "      <th>pixel_resolution_height</th>\n",
       "      <th>pixel_resolution_width</th>\n",
       "      <th>ram</th>\n",
       "      <th>screen_height</th>\n",
       "      <th>screen_width</th>\n",
       "      <th>talk_time</th>\n",
       "      <th>has_three_g</th>\n",
       "      <th>has_touch_screen</th>\n",
       "      <th>has_wifi</th>\n",
       "      <th>price_range</th>\n",
       "    </tr>\n",
       "  </thead>\n",
       "  <tbody>\n",
       "    <tr>\n",
       "      <th>0</th>\n",
       "      <td>672</td>\n",
       "      <td>0</td>\n",
       "      <td>0.5</td>\n",
       "      <td>0</td>\n",
       "      <td>7</td>\n",
       "      <td>1</td>\n",
       "      <td>35</td>\n",
       "      <td>0.1</td>\n",
       "      <td>99</td>\n",
       "      <td>8</td>\n",
       "      <td>17</td>\n",
       "      <td>574</td>\n",
       "      <td>1267</td>\n",
       "      <td>1403</td>\n",
       "      <td>16</td>\n",
       "      <td>7</td>\n",
       "      <td>6</td>\n",
       "      <td>1</td>\n",
       "      <td>0</td>\n",
       "      <td>0</td>\n",
       "      <td>0</td>\n",
       "    </tr>\n",
       "    <tr>\n",
       "      <th>1</th>\n",
       "      <td>1201</td>\n",
       "      <td>1</td>\n",
       "      <td>0.5</td>\n",
       "      <td>0</td>\n",
       "      <td>1</td>\n",
       "      <td>1</td>\n",
       "      <td>10</td>\n",
       "      <td>0.4</td>\n",
       "      <td>198</td>\n",
       "      <td>6</td>\n",
       "      <td>5</td>\n",
       "      <td>1151</td>\n",
       "      <td>1723</td>\n",
       "      <td>726</td>\n",
       "      <td>11</td>\n",
       "      <td>4</td>\n",
       "      <td>3</td>\n",
       "      <td>1</td>\n",
       "      <td>1</td>\n",
       "      <td>0</td>\n",
       "      <td>0</td>\n",
       "    </tr>\n",
       "    <tr>\n",
       "      <th>2</th>\n",
       "      <td>1007</td>\n",
       "      <td>0</td>\n",
       "      <td>2.0</td>\n",
       "      <td>0</td>\n",
       "      <td>0</td>\n",
       "      <td>0</td>\n",
       "      <td>45</td>\n",
       "      <td>0.1</td>\n",
       "      <td>95</td>\n",
       "      <td>5</td>\n",
       "      <td>2</td>\n",
       "      <td>1186</td>\n",
       "      <td>1529</td>\n",
       "      <td>3648</td>\n",
       "      <td>9</td>\n",
       "      <td>0</td>\n",
       "      <td>16</td>\n",
       "      <td>0</td>\n",
       "      <td>0</td>\n",
       "      <td>0</td>\n",
       "      <td>3</td>\n",
       "    </tr>\n",
       "    <tr>\n",
       "      <th>3</th>\n",
       "      <td>990</td>\n",
       "      <td>1</td>\n",
       "      <td>2.7</td>\n",
       "      <td>1</td>\n",
       "      <td>3</td>\n",
       "      <td>0</td>\n",
       "      <td>15</td>\n",
       "      <td>0.9</td>\n",
       "      <td>153</td>\n",
       "      <td>2</td>\n",
       "      <td>7</td>\n",
       "      <td>1466</td>\n",
       "      <td>1717</td>\n",
       "      <td>2698</td>\n",
       "      <td>11</td>\n",
       "      <td>8</td>\n",
       "      <td>6</td>\n",
       "      <td>1</td>\n",
       "      <td>0</td>\n",
       "      <td>0</td>\n",
       "      <td>2</td>\n",
       "    </tr>\n",
       "    <tr>\n",
       "      <th>4</th>\n",
       "      <td>1948</td>\n",
       "      <td>0</td>\n",
       "      <td>2.9</td>\n",
       "      <td>1</td>\n",
       "      <td>4</td>\n",
       "      <td>0</td>\n",
       "      <td>5</td>\n",
       "      <td>0.2</td>\n",
       "      <td>136</td>\n",
       "      <td>1</td>\n",
       "      <td>13</td>\n",
       "      <td>651</td>\n",
       "      <td>700</td>\n",
       "      <td>361</td>\n",
       "      <td>6</td>\n",
       "      <td>1</td>\n",
       "      <td>10</td>\n",
       "      <td>0</td>\n",
       "      <td>1</td>\n",
       "      <td>0</td>\n",
       "      <td>0</td>\n",
       "    </tr>\n",
       "  </tbody>\n",
       "</table>\n",
       "</div>"
      ],
      "text/plain": [
       "   battery_power  has_bluetooth  clock_speed  has_dual_sim  \\\n",
       "0            672              0          0.5             0   \n",
       "1           1201              1          0.5             0   \n",
       "2           1007              0          2.0             0   \n",
       "3            990              1          2.7             1   \n",
       "4           1948              0          2.9             1   \n",
       "\n",
       "   front_camera_megapixels  has_four_g  internal_memory  depth  weight  \\\n",
       "0                        7           1               35    0.1      99   \n",
       "1                        1           1               10    0.4     198   \n",
       "2                        0           0               45    0.1      95   \n",
       "3                        3           0               15    0.9     153   \n",
       "4                        4           0                5    0.2     136   \n",
       "\n",
       "   number_of_cores  primary_camera_megapixels  pixel_resolution_height  \\\n",
       "0                8                         17                      574   \n",
       "1                6                          5                     1151   \n",
       "2                5                          2                     1186   \n",
       "3                2                          7                     1466   \n",
       "4                1                         13                      651   \n",
       "\n",
       "   pixel_resolution_width   ram  screen_height  screen_width  talk_time  \\\n",
       "0                    1267  1403             16             7          6   \n",
       "1                    1723   726             11             4          3   \n",
       "2                    1529  3648              9             0         16   \n",
       "3                    1717  2698             11             8          6   \n",
       "4                     700   361              6             1         10   \n",
       "\n",
       "   has_three_g  has_touch_screen  has_wifi  price_range  \n",
       "0            1                 0         0            0  \n",
       "1            1                 1         0            0  \n",
       "2            0                 0         0            3  \n",
       "3            1                 0         0            2  \n",
       "4            0                 1         0            0  "
      ]
     },
     "execution_count": 2,
     "metadata": {},
     "output_type": "execute_result"
    }
   ],
   "source": [
    "data = pd.read_csv(\"../../data/train.csv\")\n",
    "\n",
    "data.head()"
   ]
  },
  {
   "cell_type": "markdown",
   "metadata": {},
   "source": [
    "## Create Training, Validation, and Test Sets"
   ]
  },
  {
   "cell_type": "code",
   "execution_count": 3,
   "metadata": {},
   "outputs": [],
   "source": [
    "# separating the feature columns from the target column\n",
    "feature_columns = [\n",
    "    \"battery_power\",\n",
    "    \"has_bluetooth\",\n",
    "    \"clock_speed\",\n",
    "    \"has_dual_sim\",\n",
    "    \"front_camera_megapixels\",\n",
    "    \"has_four_g\",\n",
    "    \"internal_memory\",\n",
    "    \"depth\",\n",
    "    \"weight\",\n",
    "    \"number_of_cores\",\n",
    "    \"primary_camera_megapixels\",\n",
    "    \"pixel_resolution_height\",\n",
    "    \"pixel_resolution_width\",\n",
    "    \"ram\",\n",
    "    \"screen_height\",\n",
    "    \"screen_width\",\n",
    "    \"talk_time\",\n",
    "    \"has_three_g\",\n",
    "    \"has_touch_screen\",\n",
    "    \"has_wifi\"\n",
    "]\n",
    "\n",
    "target_column = \"price_range\"\n",
    "\n",
    "# to make sure that we didnt miss any columns, we'll assert that the counts sum up\n",
    "assert (len(feature_columns) + 1 == len(data.columns))"
   ]
  },
  {
   "cell_type": "markdown",
   "metadata": {},
   "source": [
    "Create a 60%, 20%, 20% split for training, validation and test sets."
   ]
  },
  {
   "cell_type": "code",
   "execution_count": 4,
   "metadata": {},
   "outputs": [],
   "source": [
    "train, validate, test = np.split(data.sample(frac=1), [int(0.6*len(data)), int(0.8*len(data))])"
   ]
  },
  {
   "cell_type": "code",
   "execution_count": 5,
   "metadata": {},
   "outputs": [],
   "source": [
    "X_train = train[feature_columns]\n",
    "y_train = train[target_column]"
   ]
  },
  {
   "cell_type": "code",
   "execution_count": 6,
   "metadata": {},
   "outputs": [],
   "source": [
    "X_validate = validate[feature_columns]\n",
    "y_validate = validate[target_column]"
   ]
  },
  {
   "cell_type": "code",
   "execution_count": 7,
   "metadata": {},
   "outputs": [
    {
     "name": "stdout",
     "output_type": "stream",
     "text": [
      "(720, 20)\n",
      "(240, 20)\n"
     ]
    }
   ],
   "source": [
    "print(X_train.shape)\n",
    "print(X_validate.shape)"
   ]
  },
  {
   "cell_type": "code",
   "execution_count": 8,
   "metadata": {},
   "outputs": [
    {
     "name": "stdout",
     "output_type": "stream",
     "text": [
      "(720,)\n",
      "(240,)\n"
     ]
    }
   ],
   "source": [
    "print(y_train.shape)\n",
    "print(y_validate.shape)"
   ]
  },
  {
   "cell_type": "markdown",
   "metadata": {},
   "source": [
    "## Load the the Transformer"
   ]
  },
  {
   "cell_type": "code",
   "execution_count": 9,
   "metadata": {},
   "outputs": [],
   "source": [
    "# loading the preprocessing pipeline we built in the previous notebook\n",
    "transformer = joblib.load(\"column_transformer.joblib\")"
   ]
  },
  {
   "cell_type": "markdown",
   "metadata": {},
   "source": [
    "## Train a Model"
   ]
  },
  {
   "cell_type": "code",
   "execution_count": 10,
   "metadata": {},
   "outputs": [
    {
     "name": "stdout",
     "output_type": "stream",
     "text": [
      "[22:59:08] WARNING: /Users/travis/build/dmlc/xgboost/src/learner.cc:1095: Starting in XGBoost 1.3.0, the default evaluation metric used with the objective 'multi:softprob' was changed from 'merror' to 'mlogloss'. Explicitly set eval_metric if you'd like to restore the old behavior.\n"
     ]
    },
    {
     "data": {
      "text/plain": [
       "Pipeline(steps=[('preprocessor',\n",
       "                 ColumnTransformer(remainder='passthrough',\n",
       "                                   transformers=[('numerical',\n",
       "                                                  Pipeline(steps=[('imputer',\n",
       "                                                                   SimpleImputer()),\n",
       "                                                                  ('scaler',\n",
       "                                                                   StandardScaler())]),\n",
       "                                                  ['battery_power',\n",
       "                                                   'clock_speed',\n",
       "                                                   'front_camera_megapixels',\n",
       "                                                   'internal_memory', 'depth',\n",
       "                                                   'weight', 'number_of_cores',\n",
       "                                                   'primary_camera_megapixels',\n",
       "                                                   'pixel_resolution_height',\n",
       "                                                   'pixel_reso...\n",
       "                               importance_type='gain',\n",
       "                               interaction_constraints='',\n",
       "                               learning_rate=0.300000012, max_delta_step=0,\n",
       "                               max_depth=6, min_child_weight=1, missing=nan,\n",
       "                               monotone_constraints='()', n_estimators=100,\n",
       "                               n_jobs=8, num_parallel_tree=1,\n",
       "                               objective='multi:softprob', random_state=0,\n",
       "                               reg_alpha=0, reg_lambda=1, scale_pos_weight=None,\n",
       "                               subsample=1, tree_method='exact',\n",
       "                               validate_parameters=1, verbosity=None))])"
      ]
     },
     "execution_count": 10,
     "metadata": {},
     "output_type": "execute_result"
    }
   ],
   "source": [
    "model = XGBClassifier()\n",
    "\n",
    "pipeline = Pipeline(steps=[(\"preprocessor\", transformer),\n",
    "                           (\"model\", model)])\n",
    "\n",
    "pipeline.fit(X_train, y_train)"
   ]
  },
  {
   "cell_type": "markdown",
   "metadata": {},
   "source": [
    "## Test Model With Single Sample"
   ]
  },
  {
   "cell_type": "code",
   "execution_count": 11,
   "metadata": {},
   "outputs": [
    {
     "data": {
      "text/plain": [
       "array([3])"
      ]
     },
     "execution_count": 11,
     "metadata": {},
     "output_type": "execute_result"
    }
   ],
   "source": [
    "result = model.predict(X_validate.iloc[[0]])\n",
    "\n",
    "result"
   ]
  },
  {
   "cell_type": "markdown",
   "metadata": {},
   "source": [
    "## Hyperparameter Tuning\n",
    "\n",
    "To do hyperparameter tuning, we'll use the Hyperopt package.\n",
    "\n",
    "This section is based on this post: https://www.kaggle.com/prashant111/a-guide-on-xgboost-hyperparameters-tuning"
   ]
  },
  {
   "cell_type": "code",
   "execution_count": 12,
   "metadata": {},
   "outputs": [],
   "source": [
    "space = {\n",
    "    \"max_depth\": hp.quniform(\"max_depth\", 3, 18, 1),\n",
    "    \"gamma\": hp.uniform (\"gamma\", 1, 9),\n",
    "    \"reg_alpha\" : hp.quniform(\"reg_alpha\", 40,180,1),\n",
    "    \"reg_lambda\" : hp.uniform(\"reg_lambda\", 0, 1),\n",
    "    \"colsample_bytree\" : hp.uniform(\"colsample_bytree\", 0.5, 1),\n",
    "    \"min_child_weight\" : hp.quniform(\"min_child_weight\", 0, 10, 1),\n",
    "    \"n_estimators\": 180,\n",
    "    \"seed\": 0\n",
    "}"
   ]
  },
  {
   "cell_type": "markdown",
   "metadata": {},
   "source": [
    "hp.quniform(label, low, high, q) — Returns a value round(uniform(low, high) / q) * q, i.e it rounds the decimal values and returns an integer."
   ]
  },
  {
   "cell_type": "code",
   "execution_count": 13,
   "metadata": {},
   "outputs": [],
   "source": [
    "def objective(space):\n",
    "    classifier = XGBClassifier(\n",
    "        n_estimators=space[\"n_estimators\"], \n",
    "        max_depth=int(space[\"max_depth\"]), \n",
    "        gamma=space[\"gamma\"],\n",
    "        reg_alpha=int(space[\"reg_alpha\"]),\n",
    "        min_child_weight=int(space[\"min_child_weight\"]),\n",
    "        colsample_bytree=int(space[\"colsample_bytree\"])\n",
    "    )\n",
    "    \n",
    "    evaluation = [(X_train, y_train), (X_validate, y_validate)]\n",
    "    \n",
    "    classifier.fit(X_train,\n",
    "                   y_train,\n",
    "                   eval_set=evaluation,\n",
    "                   eval_metric=\"merror\",\n",
    "                   early_stopping_rounds=10,\n",
    "                   verbose=False)\n",
    "\n",
    "    predictions = classifier.predict(X_validate)\n",
    "    accuracy = accuracy_score(y_validate, predictions)\n",
    "    print(\"SCORE: \", accuracy)\n",
    "    return {\n",
    "        \"loss\": -accuracy, \n",
    "        \"status\": STATUS_OK \n",
    "    }"
   ]
  },
  {
   "cell_type": "code",
   "execution_count": 14,
   "metadata": {},
   "outputs": [
    {
     "name": "stdout",
     "output_type": "stream",
     "text": [
      "SCORE:                                                                                                                                                  \n",
      "0.25833333333333336                                                                                                                                     \n",
      "SCORE:                                                                                                                                                  \n",
      "0.6958333333333333                                                                                                                                      \n",
      "SCORE:                                                                                                                                                  \n",
      "0.7041666666666667                                                                                                                                      \n",
      "SCORE:                                                                                                                                                  \n",
      "0.6958333333333333                                                                                                                                      \n",
      "SCORE:                                                                                                                                                  \n",
      "0.6958333333333333                                                                                                                                      \n",
      "SCORE:                                                                                                                                                  \n",
      "0.25833333333333336                                                                                                                                     \n",
      "SCORE:                                                                                                                                                  \n",
      "0.25833333333333336                                                                                                                                     \n",
      "SCORE:                                                                                                                                                  \n",
      "0.25833333333333336                                                                                                                                     \n",
      "SCORE:                                                                                                                                                  \n",
      "0.25833333333333336                                                                                                                                     \n",
      "SCORE:                                                                                                                                                  \n",
      "0.6958333333333333                                                                                                                                      \n",
      "SCORE:                                                                                                                                                  \n",
      "0.6958333333333333                                                                                                                                      \n",
      "SCORE:                                                                                                                                                  \n",
      "0.25833333333333336                                                                                                                                     \n",
      "SCORE:                                                                                                                                                  \n",
      "0.25833333333333336                                                                                                                                     \n",
      "SCORE:                                                                                                                                                  \n",
      "0.25833333333333336                                                                                                                                     \n",
      "SCORE:                                                                                                                                                  \n",
      "0.7041666666666667                                                                                                                                      \n",
      "SCORE:                                                                                                                                                  \n",
      "0.6958333333333333                                                                                                                                      \n",
      "SCORE:                                                                                                                                                  \n",
      "0.25833333333333336                                                                                                                                     \n",
      "SCORE:                                                                                                                                                  \n",
      "0.25833333333333336                                                                                                                                     \n",
      "SCORE:                                                                                                                                                  \n",
      "0.25833333333333336                                                                                                                                     \n",
      "SCORE:                                                                                                                                                  \n",
      "0.25833333333333336                                                                                                                                     \n",
      "SCORE:                                                                                                                                                  \n",
      "0.6958333333333333                                                                                                                                      \n",
      "SCORE:                                                                                                                                                  \n",
      "0.7041666666666667                                                                                                                                      \n",
      "SCORE:                                                                                                                                                  \n",
      "0.7041666666666667                                                                                                                                      \n",
      "SCORE:                                                                                                                                                  \n",
      "0.6958333333333333                                                                                                                                      \n",
      "SCORE:                                                                                                                                                  \n",
      "0.7291666666666666                                                                                                                                      \n",
      "SCORE:                                                                                                                                                  \n",
      "0.6958333333333333                                                                                                                                      \n",
      "SCORE:                                                                                                                                                  \n"
     ]
    },
    {
     "name": "stdout",
     "output_type": "stream",
     "text": [
      "0.6958333333333333                                                                                                                                      \n",
      "SCORE:                                                                                                                                                  \n",
      "0.6958333333333333                                                                                                                                      \n",
      "SCORE:                                                                                                                                                  \n",
      "0.6958333333333333                                                                                                                                      \n",
      "SCORE:                                                                                                                                                  \n",
      "0.25833333333333336                                                                                                                                     \n",
      "SCORE:                                                                                                                                                  \n",
      "0.6958333333333333                                                                                                                                      \n",
      "SCORE:                                                                                                                                                  \n",
      "0.25833333333333336                                                                                                                                     \n",
      "SCORE:                                                                                                                                                  \n",
      "0.7041666666666667                                                                                                                                      \n",
      "SCORE:                                                                                                                                                  \n",
      "0.6958333333333333                                                                                                                                      \n",
      "SCORE:                                                                                                                                                  \n",
      "0.7041666666666667                                                                                                                                      \n",
      "SCORE:                                                                                                                                                  \n",
      "0.6958333333333333                                                                                                                                      \n",
      "SCORE:                                                                                                                                                  \n",
      "0.6958333333333333                                                                                                                                      \n",
      "SCORE:                                                                                                                                                  \n",
      "0.6958333333333333                                                                                                                                      \n",
      "SCORE:                                                                                                                                                  \n",
      "0.25833333333333336                                                                                                                                     \n",
      "SCORE:                                                                                                                                                  \n",
      "0.6958333333333333                                                                                                                                      \n",
      "SCORE:                                                                                                                                                  \n",
      "0.6958333333333333                                                                                                                                      \n",
      "SCORE:                                                                                                                                                  \n",
      "0.7041666666666667                                                                                                                                      \n",
      "SCORE:                                                                                                                                                  \n",
      "0.25833333333333336                                                                                                                                     \n",
      "SCORE:                                                                                                                                                  \n",
      "0.7083333333333334                                                                                                                                      \n",
      "SCORE:                                                                                                                                                  \n",
      "0.25833333333333336                                                                                                                                     \n",
      "SCORE:                                                                                                                                                  \n",
      "0.25833333333333336                                                                                                                                     \n",
      "SCORE:                                                                                                                                                  \n",
      "0.6958333333333333                                                                                                                                      \n",
      "SCORE:                                                                                                                                                  \n",
      "0.6958333333333333                                                                                                                                      \n",
      "SCORE:                                                                                                                                                  \n",
      "0.6958333333333333                                                                                                                                      \n",
      "SCORE:                                                                                                                                                  \n",
      "0.25833333333333336                                                                                                                                     \n",
      "SCORE:                                                                                                                                                  \n",
      "0.6958333333333333                                                                                                                                      \n",
      "SCORE:                                                                                                                                                  \n",
      "0.6625                                                                                                                                                  \n",
      "SCORE:                                                                                                                                                  \n",
      "0.6958333333333333                                                                                                                                      \n"
     ]
    },
    {
     "name": "stdout",
     "output_type": "stream",
     "text": [
      "SCORE:                                                                                                                                                  \n",
      "0.25833333333333336                                                                                                                                     \n",
      "SCORE:                                                                                                                                                  \n",
      "0.7041666666666667                                                                                                                                      \n",
      "SCORE:                                                                                                                                                  \n",
      "0.25833333333333336                                                                                                                                     \n",
      "SCORE:                                                                                                                                                  \n",
      "0.25833333333333336                                                                                                                                     \n",
      "SCORE:                                                                                                                                                  \n",
      "0.25833333333333336                                                                                                                                     \n",
      "SCORE:                                                                                                                                                  \n",
      "0.6958333333333333                                                                                                                                      \n",
      "SCORE:                                                                                                                                                  \n",
      "0.6958333333333333                                                                                                                                      \n",
      "SCORE:                                                                                                                                                  \n",
      "0.6958333333333333                                                                                                                                      \n",
      "SCORE:                                                                                                                                                  \n",
      "0.25833333333333336                                                                                                                                     \n",
      "SCORE:                                                                                                                                                  \n",
      "0.6958333333333333                                                                                                                                      \n",
      "SCORE:                                                                                                                                                  \n",
      "0.25833333333333336                                                                                                                                     \n",
      "SCORE:                                                                                                                                                  \n",
      "0.7041666666666667                                                                                                                                      \n",
      "SCORE:                                                                                                                                                  \n",
      "0.7041666666666667                                                                                                                                      \n",
      "SCORE:                                                                                                                                                  \n",
      "0.6958333333333333                                                                                                                                      \n",
      "SCORE:                                                                                                                                                  \n",
      "0.6958333333333333                                                                                                                                      \n",
      "SCORE:                                                                                                                                                  \n",
      "0.7041666666666667                                                                                                                                      \n",
      "SCORE:                                                                                                                                                  \n",
      "0.7041666666666667                                                                                                                                      \n",
      "SCORE:                                                                                                                                                  \n",
      "0.6958333333333333                                                                                                                                      \n",
      "SCORE:                                                                                                                                                  \n",
      "0.6958333333333333                                                                                                                                      \n",
      "SCORE:                                                                                                                                                  \n",
      "0.6958333333333333                                                                                                                                      \n",
      "SCORE:                                                                                                                                                  \n",
      "0.7083333333333334                                                                                                                                      \n",
      "SCORE:                                                                                                                                                  \n",
      "0.7083333333333334                                                                                                                                      \n",
      "SCORE:                                                                                                                                                  \n",
      "0.6958333333333333                                                                                                                                      \n",
      "SCORE:                                                                                                                                                  \n",
      "0.6958333333333333                                                                                                                                      \n",
      "SCORE:                                                                                                                                                  \n",
      "0.5                                                                                                                                                     \n",
      "SCORE:                                                                                                                                                  \n",
      "0.6958333333333333                                                                                                                                      \n",
      "SCORE:                                                                                                                                                  \n"
     ]
    },
    {
     "name": "stdout",
     "output_type": "stream",
     "text": [
      "0.6958333333333333                                                                                                                                      \n",
      "SCORE:                                                                                                                                                  \n",
      "0.6958333333333333                                                                                                                                      \n",
      "SCORE:                                                                                                                                                  \n",
      "0.7041666666666667                                                                                                                                      \n",
      "SCORE:                                                                                                                                                  \n",
      "0.6958333333333333                                                                                                                                      \n",
      "SCORE:                                                                                                                                                  \n",
      "0.7041666666666667                                                                                                                                      \n",
      "SCORE:                                                                                                                                                  \n",
      "0.7041666666666667                                                                                                                                      \n",
      "SCORE:                                                                                                                                                  \n",
      "0.6958333333333333                                                                                                                                      \n",
      "SCORE:                                                                                                                                                  \n",
      "0.6958333333333333                                                                                                                                      \n",
      "SCORE:                                                                                                                                                  \n",
      "0.7041666666666667                                                                                                                                      \n",
      "SCORE:                                                                                                                                                  \n",
      "0.6958333333333333                                                                                                                                      \n",
      "SCORE:                                                                                                                                                  \n",
      "0.25833333333333336                                                                                                                                     \n",
      "SCORE:                                                                                                                                                  \n",
      "0.25833333333333336                                                                                                                                     \n",
      "SCORE:                                                                                                                                                  \n",
      "0.6958333333333333                                                                                                                                      \n",
      "SCORE:                                                                                                                                                  \n",
      "0.25833333333333336                                                                                                                                     \n",
      "SCORE:                                                                                                                                                  \n",
      "0.6958333333333333                                                                                                                                      \n",
      "SCORE:                                                                                                                                                  \n",
      "0.6958333333333333                                                                                                                                      \n",
      "SCORE:                                                                                                                                                  \n",
      "0.25833333333333336                                                                                                                                     \n",
      "SCORE:                                                                                                                                                  \n",
      "0.25833333333333336                                                                                                                                     \n",
      "SCORE:                                                                                                                                                  \n",
      "0.7041666666666667                                                                                                                                      \n",
      "SCORE:                                                                                                                                                  \n",
      "0.25833333333333336                                                                                                                                     \n",
      "SCORE:                                                                                                                                                  \n",
      "0.6958333333333333                                                                                                                                      \n",
      "100%|██████████████████████████████████████████████████████████████████████████████| 100/100 [00:06<00:00, 14.78trial/s, best loss: -0.7291666666666666]\n"
     ]
    }
   ],
   "source": [
    "trials = Trials()\n",
    "\n",
    "best_hyperparameters = fmin(fn = objective,\n",
    "                            space = space,\n",
    "                            algo = tpe.suggest,\n",
    "                            max_evals = 100,\n",
    "                            trials = trials)"
   ]
  },
  {
   "cell_type": "code",
   "execution_count": 15,
   "metadata": {},
   "outputs": [
    {
     "name": "stdout",
     "output_type": "stream",
     "text": [
      "The best hyperparameters are:  {'colsample_bytree': 0.9009538594513473, 'gamma': 2.407994646875835, 'max_depth': 9.0, 'min_child_weight': 5.0, 'reg_alpha': 40.0, 'reg_lambda': 0.09736662506010292}\n"
     ]
    }
   ],
   "source": [
    "print(\"The best hyperparameters are: \", best_hyperparameters)"
   ]
  },
  {
   "cell_type": "code",
   "execution_count": 16,
   "metadata": {},
   "outputs": [],
   "source": [
    "# converting the integer hyperparameters\n",
    "best_hyperparameters[\"max_depth\"] = int(best_hyperparameters[\"max_depth\"])"
   ]
  },
  {
   "cell_type": "markdown",
   "metadata": {},
   "source": [
    "## Train the Final Model"
   ]
  },
  {
   "cell_type": "code",
   "execution_count": 17,
   "metadata": {},
   "outputs": [
    {
     "name": "stdout",
     "output_type": "stream",
     "text": [
      "[22:59:15] WARNING: /Users/travis/build/dmlc/xgboost/src/learner.cc:1095: Starting in XGBoost 1.3.0, the default evaluation metric used with the objective 'multi:softprob' was changed from 'merror' to 'mlogloss'. Explicitly set eval_metric if you'd like to restore the old behavior.\n"
     ]
    },
    {
     "data": {
      "text/plain": [
       "Pipeline(steps=[('preprocessor',\n",
       "                 ColumnTransformer(remainder='passthrough',\n",
       "                                   transformers=[('numerical',\n",
       "                                                  Pipeline(steps=[('imputer',\n",
       "                                                                   SimpleImputer()),\n",
       "                                                                  ('scaler',\n",
       "                                                                   StandardScaler())]),\n",
       "                                                  ['battery_power',\n",
       "                                                   'clock_speed',\n",
       "                                                   'front_camera_megapixels',\n",
       "                                                   'internal_memory', 'depth',\n",
       "                                                   'weight', 'number_of_cores',\n",
       "                                                   'primary_camera_megapixels',\n",
       "                                                   'pixel_resolution_height',\n",
       "                                                   'pixel_reso...\n",
       "                               interaction_constraints='',\n",
       "                               learning_rate=0.300000012, max_delta_step=0,\n",
       "                               max_depth=9, min_child_weight=5.0, missing=nan,\n",
       "                               monotone_constraints='()', n_estimators=100,\n",
       "                               n_jobs=8, num_parallel_tree=1,\n",
       "                               objective='multi:softprob', random_state=0,\n",
       "                               reg_alpha=40.0, reg_lambda=0.09736662506010292,\n",
       "                               scale_pos_weight=None, subsample=1,\n",
       "                               tree_method='exact', validate_parameters=1,\n",
       "                               verbosity=None))])"
      ]
     },
     "execution_count": 17,
     "metadata": {},
     "output_type": "execute_result"
    }
   ],
   "source": [
    "model = XGBClassifier(**best_hyperparameters)\n",
    "\n",
    "pipeline = Pipeline(steps=[(\"preprocessor\", transformer),\n",
    "                           (\"model\", model)])\n",
    "\n",
    "pipeline.fit(X_train, y_train)"
   ]
  },
  {
   "cell_type": "markdown",
   "metadata": {},
   "source": [
    "## Test Model With Single Sample"
   ]
  },
  {
   "cell_type": "code",
   "execution_count": 18,
   "metadata": {},
   "outputs": [
    {
     "data": {
      "text/plain": [
       "array([2])"
      ]
     },
     "execution_count": 18,
     "metadata": {},
     "output_type": "execute_result"
    }
   ],
   "source": [
    "result = pipeline.predict(X_validate.iloc[[0]])\n",
    "\n",
    "result"
   ]
  },
  {
   "cell_type": "markdown",
   "metadata": {},
   "source": [
    "## Save Model"
   ]
  },
  {
   "cell_type": "code",
   "execution_count": 19,
   "metadata": {},
   "outputs": [
    {
     "data": {
      "text/plain": [
       "['model.joblib']"
      ]
     },
     "execution_count": 19,
     "metadata": {},
     "output_type": "execute_result"
    }
   ],
   "source": [
    "joblib.dump(pipeline, \"model.joblib\")"
   ]
  },
  {
   "cell_type": "markdown",
   "metadata": {},
   "source": [
    "## Saving the Datasets"
   ]
  },
  {
   "cell_type": "code",
   "execution_count": 20,
   "metadata": {},
   "outputs": [],
   "source": [
    "train.to_csv(\"../../data/train.csv\", index=False)\n",
    "validate.to_csv(\"../../data/validate.csv\", index=False)\n",
    "test.to_csv(\"../../data/test.csv\", index=False)"
   ]
  }
 ],
 "metadata": {
  "kernelspec": {
   "display_name": "Python 3 (ipykernel)",
   "language": "python",
   "name": "python3"
  },
  "language_info": {
   "codemirror_mode": {
    "name": "ipython",
    "version": 3
   },
   "file_extension": ".py",
   "mimetype": "text/x-python",
   "name": "python",
   "nbconvert_exporter": "python",
   "pygments_lexer": "ipython3",
   "version": "3.8.10"
  }
 },
 "nbformat": 4,
 "nbformat_minor": 4
}
